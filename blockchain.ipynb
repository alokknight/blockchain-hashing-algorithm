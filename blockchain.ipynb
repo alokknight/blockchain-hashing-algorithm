{
  "nbformat": 4,
  "nbformat_minor": 0,
  "metadata": {
    "colab": {
      "name": "blockchain.ipynb",
      "provenance": [],
      "authorship_tag": "ABX9TyPt8OVsJ5gBnSs176JFOO/G",
      "include_colab_link": true
    },
    "kernelspec": {
      "name": "python3",
      "display_name": "Python 3"
    },
    "language_info": {
      "name": "python"
    }
  },
  "cells": [
    {
      "cell_type": "markdown",
      "metadata": {
        "id": "view-in-github",
        "colab_type": "text"
      },
      "source": [
        "<a href=\"https://colab.research.google.com/github/alokknight/blockchain-hashing-algorithm/blob/main/blockchain.ipynb\" target=\"_parent\"><img src=\"https://colab.research.google.com/assets/colab-badge.svg\" alt=\"Open In Colab\"/></a>"
      ]
    },
    {
      "cell_type": "markdown",
      "metadata": {
        "id": "DnFepUhz_7ph"
      },
      "source": [
        "# SHA-256 algorithm"
      ]
    },
    {
      "cell_type": "code",
      "metadata": {
        "id": "ATT1qLze_p7o"
      },
      "source": [
        "import hashlib\n"
      ],
      "execution_count": null,
      "outputs": []
    },
    {
      "cell_type": "code",
      "metadata": {
        "colab": {
          "base_uri": "https://localhost:8080/"
        },
        "id": "BmKgzA4iAmCC",
        "outputId": "4e302c60-ef6e-41dd-c112-422b7d0810e2"
      },
      "source": [
        "string=\"alok\"\n",
        "print( hashlib.sha256(string.encode()).hexdigest())"
      ],
      "execution_count": null,
      "outputs": [
        {
          "output_type": "stream",
          "text": [
            "d81dd013479ea81c7567f3a084f1ced5d7abc64506c554e00a4ec4183d410072\n"
          ],
          "name": "stdout"
        }
      ]
    },
    {
      "cell_type": "markdown",
      "metadata": {
        "id": "y6sl1Qrh_5_I"
      },
      "source": [
        "# SHA-384 algorithm"
      ]
    },
    {
      "cell_type": "code",
      "metadata": {
        "colab": {
          "base_uri": "https://localhost:8080/"
        },
        "id": "XaNhCxCDCrrI",
        "outputId": "de61d12c-e6ed-424f-e192-0fb25b45d597"
      },
      "source": [
        "print(hashlib.sha384(string.encode()).hexdigest())"
      ],
      "execution_count": null,
      "outputs": [
        {
          "output_type": "stream",
          "text": [
            "96d8614cd380c5d5e29c8493019f171d39e33a9f9c340a11c0be4bd9426b41d785cf8da9336695949915727e34bda35e\n"
          ],
          "name": "stdout"
        }
      ]
    },
    {
      "cell_type": "markdown",
      "metadata": {
        "id": "QMdnhYKGDONL"
      },
      "source": [
        "#sha224"
      ]
    },
    {
      "cell_type": "code",
      "metadata": {
        "colab": {
          "base_uri": "https://localhost:8080/"
        },
        "id": "8P78lrRfDNpL",
        "outputId": "57ff2ecb-9579-447c-a78a-382ec3927795"
      },
      "source": [
        "print(hashlib.sha224(string.encode()).hexdigest())"
      ],
      "execution_count": null,
      "outputs": [
        {
          "output_type": "stream",
          "text": [
            "6d9fd0405d1a0b5d097a2107c3b1e844a142a537028e0f7bd51b24d5\n"
          ],
          "name": "stdout"
        }
      ]
    },
    {
      "cell_type": "markdown",
      "metadata": {
        "id": "v0Z-N2ZRDtvB"
      },
      "source": [
        "#sha512"
      ]
    },
    {
      "cell_type": "code",
      "metadata": {
        "colab": {
          "base_uri": "https://localhost:8080/"
        },
        "id": "2HjvdL-IDxUS",
        "outputId": "7429aa57-fe92-49fb-dada-f049b13c96ee"
      },
      "source": [
        "print(\"sha512  = \",hashlib.sha512(string.encode()).hexdigest(),end=\"\\n\")\n",
        "print(\"sha3_512= \",hashlib.sha3_512(string.encode()).hexdigest(),end=\"\\n\")\n",
        "print(\"sha3_224= \",hashlib.sha3_224(string.encode()).hexdigest(),end=\"\\n\")\n",
        "print(\"sha3_384= \",hashlib.sha3_384(string.encode()).hexdigest(),end=\"\\n\")\n",
        "print(\"sha3_256= \",hashlib.sha3_256(string.encode()).hexdigest(),end=\"\\n\")\n",
        "print(\"sha1    = \",hashlib.sha1(string.encode()).hexdigest(),end=\"\\n\")\n",
        "\n"
      ],
      "execution_count": null,
      "outputs": [
        {
          "output_type": "stream",
          "text": [
            "sha512  =  32b8a61980f9d094d370cd4267693fc6b7e9812b1889a3781ddb970a6b1566c1e2b7fe5fc565f3b9b8094dd29c935c1bf59a595bc81d4c33b870d6fb4c08a5b6\n",
            "sha3_512=  ec6bbf8637533cfca3a6ba3b764b339ea6342fa6a4cf6df704f9f8c776627138a5487e5c8b2a746fd9881559d6c06a205d73a57dc2a5f16899625050d05efcbc\n",
            "sha3_224=  643859903b74032859ad05ee5f0c802eb6a3b7fd4f443e071c4297a0\n",
            "sha3_384=  38a3219b19bb0f3351db8b57602fb104ad8ed83622f8b06cc929ef2051f182637d1499360cc95675e67d65f47bb34444\n",
            "sha3_256=  1db972283fd7d3c4c3fce1669bf89c9dedb90a01867c3a062409613646c82725\n",
            "sha1    =  7e6ec54ab4d248f06b402016d192860744bb2b34\n"
          ],
          "name": "stdout"
        }
      ]
    }
  ]
}